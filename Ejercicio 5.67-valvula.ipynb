{
 "cells": [
  {
   "cell_type": "markdown",
   "id": "3c252266-3940-44a5-9680-f2d5ab4016a7",
   "metadata": {},
   "source": [
    "**Daniela Sabrina Reyes Rivera**    \n",
    "**Termodinámica**"
   ]
  },
  {
   "cell_type": "markdown",
   "id": "e002531e-7185-4c71-918f-5c1ed40bd161",
   "metadata": {},
   "source": [
    "**5.67.** Entra refrigerante R-134a a la válvula de expansión de un sistema de refrigeración a 120 psia como líquido saturado, y sale a 20 psia. Determine **la temperatura y los cambios de energía interna** a través de la válvula."
   ]
  },
  {
   "cell_type": "markdown",
   "id": "d0297678-ad4a-48bf-a761-6926cc624a2e",
   "metadata": {},
   "source": [
    "Las válvulas de estrangulamiento se caracterizan por generar una **caída de presión sin implicar trabajo**, que suele acompañarse de una considerable **disminución de la temperatura**.  \n"
   ]
  },
  {
   "cell_type": "markdown",
   "id": "fac1d75f-567b-4284-9861-9be605e52bef",
   "metadata": {},
   "source": [
    "**Suposiciones:**\n",
    "- Régimen de operación en estado estacionario.\n",
    "- No hay intercambio de calor ni trabajo con los alrededores, por lo tanto $\\dot{Q}=0$ , $\\dot{W}=0$  \n",
    "- Se desprecian los cambios de energía cinética y potencial.\n",
    "- Se hace mención de la fase (líquido saturado), por lo tanto conocemos la calidad: $x=0$  \n",
    "\n",
    "**Ecuación del balance de masa:**  \n",
    "$$\\dot{m}_1=\\dot{m}_2=\\dot{m}$$  \n",
    "**Ecuación del balance de energía:**  \n",
    "$\\sum\\limits_{entrada} \\dot{m}\\left(h+\\cfrac{c^2}{2}+gz\\right)+\\dot{Q}_{entrada}+\\dot{W}_{entrada}= \\sum\\limits_{salida}\\dot{m}\\left(h+\\cfrac{c^2}{2}+gz\\right)+\\dot{Q}_{salida}+\\dot{W}_{salida}$  \n",
    "\n",
    "**Simplificación de la ecuación:**  \n",
    "$\\dot{m}h_{1}= \\dot{m}h_{2} \\implies \\left(\\cfrac{1}{\\dot{m}}\\right)(\\dot{m}h_1=\\dot{m}h_2) \\implies h_1=h_2$"
   ]
  },
  {
   "cell_type": "code",
   "execution_count": null,
   "id": "3cefb2a7-3f33-4b17-a39b-0d25fc7060ae",
   "metadata": {},
   "outputs": [],
   "source": [
    "#Datos\n",
    "#Entrada:\n",
    "P_1=120 #psia\n",
    "x_1=0\n",
    "#Salida:\n",
    "P_2=20 #psia"
   ]
  },
  {
   "cell_type": "markdown",
   "id": "8a0da9f6-10c7-4905-a182-ab5f9aeb878e",
   "metadata": {},
   "source": [
    "Con los datos que contamos, ir a la tabla A-12E del Cengel para buscar las temperaturas de saturación:"
   ]
  },
  {
   "cell_type": "code",
   "execution_count": 2,
   "id": "90481617-76a7-4e50-a120-558dc9a2a651",
   "metadata": {},
   "outputs": [
    {
     "name": "stdout",
     "output_type": "stream",
     "text": [
      "a) La temperatura del estado inicial es de 90.49 °F\n",
      "   La temperatura de salida es de -2.43 °F\n",
      "   El cambio de temperatura tiene un valor de -92.92 °F\n"
     ]
    }
   ],
   "source": [
    "T_1=90.49 #°F\n",
    "T_2=-2.43 #°F\n",
    "h_1=41.791 #Btu/lbm\n",
    "h_2=h_1\n",
    "u_1=41.489 #Btu/lbm\n",
    "Delta_T=T_2-T_1 #°F\n",
    "println(\"a) La temperatura del estado inicial es de \",T_1,\" °F\")\n",
    "println(\"   La temperatura de salida es de \",T_2,\" °F\")\n",
    "println(\"   El cambio de temperatura tiene un valor de \",Delta_T,\" °F\")"
   ]
  },
  {
   "cell_type": "markdown",
   "id": "5e3caff5-bfc5-4bcd-b46f-cc2207728446",
   "metadata": {},
   "source": [
    "Para poder obtener el cambio de energía es necesario conocer la fase de salida de la válvula, pues con ella podremos tomar lectura del valor de la energía interna en dicho estado. La forma más sencilla de obtenerlo es a través de la calidad, que puede ser calculada con la siguiente fórmula:\n",
    "$$x_2=\\cfrac{h_2-h_f}{h_g-h_f}$$"
   ]
  },
  {
   "cell_type": "code",
   "execution_count": 12,
   "id": "cd8a851f-31bb-4791-94cc-4bba7762391e",
   "metadata": {},
   "outputs": [
    {
     "name": "stdout",
     "output_type": "stream",
     "text": [
      "La fase es mezcla líquido vapor: x_2=0.33246079032682024\n"
     ]
    }
   ],
   "source": [
    "#De la misma tabla A-12E:\n",
    "hf_2=11.436 #Btu/lbm\n",
    "hg_2= 102.74 #Btu/lbm\n",
    "x_2=(h_2-hf_2)/(hg_2-hf_2)\n",
    "if x_2 == 0\n",
    "    println(\"La fase es líquido saturado\")\n",
    "elseif x_2 == 1\n",
    "        println(\"La fase es vapor saturado\")\n",
    "    else \n",
    "        println(\"La fase es mezcla líquido vapor: x_2=\",x_2)\n",
    "end"
   ]
  },
  {
   "cell_type": "markdown",
   "id": "5c814a43-7411-4491-98ba-4c02cbf02d7d",
   "metadata": {},
   "source": [
    "Sabiendo que la calidad a la salida corresponde a mexcla líquido vapor, la energía interna para este estado puede calcularse de manera análoga a la calidad, de la siguiente forma:  $u_2=u_f+x(u_g-u_f)$"
   ]
  },
  {
   "cell_type": "code",
   "execution_count": 13,
   "id": "aa6aabd4-6e33-4186-bb9b-56ea30d7b364",
   "metadata": {},
   "outputs": [
    {
     "name": "stdout",
     "output_type": "stream",
     "text": [
      "La energía interna a la salida es de 38.959651351528954 Btu/lbm\n",
      "b) El cambio de energía interna en la válvula es de -2.529348648471043 Btu/lbm\n"
     ]
    }
   ],
   "source": [
    "#Datos de energía interna de la tabla A-12E:\n",
    "u_f2= 11.393 #Btu/lbm\n",
    "u_g2=94.31 #Btu/lbm\n",
    "u_2=u_f2+x_2*(u_g2-u_f2) #Btu/lbm\n",
    "Delta_u=u_2-u_1 #Btu/lbm\n",
    "println(\"La energía interna a la salida es de \",u_2,\" Btu/lbm\")\n",
    "println(\"b) El cambio de energía interna en la válvula es de \",Delta_u,\" Btu/lbm\")"
   ]
  }
 ],
 "metadata": {
  "kernelspec": {
   "display_name": "Julia 1.6.6",
   "language": "julia",
   "name": "julia-1.6"
  },
  "language_info": {
   "file_extension": ".jl",
   "mimetype": "application/julia",
   "name": "julia",
   "version": "1.6.3"
  }
 },
 "nbformat": 4,
 "nbformat_minor": 5
}
